{
 "cells": [
  {
   "cell_type": "markdown",
   "id": "20ea649e",
   "metadata": {},
   "source": [
    "## Ability of models to reproduce regional patterns"
   ]
  },
  {
   "cell_type": "code",
   "execution_count": null,
   "id": "224944b6",
   "metadata": {
    "tags": [
     "remove-cell"
    ]
   },
   "outputs": [],
   "source": [
    "chunk_start"
   ]
  },
  {
   "cell_type": "markdown",
   "id": "028b0b6f",
   "metadata": {},
   "source": [
    "**Note**: These comparisons are only exact when the model grids are identical. Otherwise, the comparisons are based on the overlap between the model grids and the region of interest, and the results may not be totally comparable."
   ]
  },
  {
   "cell_type": "code",
   "execution_count": null,
   "id": "abe6c2b7",
   "metadata": {
    "tags": [
     "remove-cell"
    ]
   },
   "outputs": [],
   "source": [
    "# model_dict = {\n",
    "#     \"LOCATE\":\"/data/proteus1/scratch/gle/getmval/locate\",\n",
    "#     \"GETM\":\"/data/proteus1/scratch/rwi/adhoc/getm/3dmn\"\n",
    "# }\n",
    "\n",
    "model_dict = model_dict_str\n",
    "num_models = len(model_dict)"
   ]
  },
  {
   "cell_type": "code",
   "execution_count": null,
   "id": "911df3e5",
   "metadata": {
    "tags": [
     "remove-input"
    ]
   },
   "outputs": [],
   "source": [
    "\n",
    "# step 1 is to figure out the variables available\n",
    "variables = []\n",
    "for dir_name in list(model_dict.values()):\n",
    "    paths = glob.glob(dir_name + \"/results/regionals/*\")\n",
    "    paths = tidy_summary_paths(paths)\n",
    "    variables += [os.path.basename(x).split(\"_\")[1] for x in paths]\n",
    "\n",
    "# restrict variables to those that occur twice\n",
    "variables = list(set([x for x in variables if variables.count(x) >= 2]))# step 1 is to figure out the variables available"
   ]
  },
  {
   "cell_type": "code",
   "execution_count": null,
   "id": "43f9b538",
   "metadata": {
    "tags": [
     "remove-input"
    ]
   },
   "outputs": [],
   "source": [
    "for vv in variables:\n",
    "    paths = glob.glob(model_dict[list(model_dict.keys())[0]] + \"/results/regionals/*\" + vv + \"_regionals.csv\")\n",
    "    df1 = pd.read_csv(paths[0])\n",
    "    break\n",
    "if len([x for x in df1.long_name if \"Irish Sea\" in x]) > 0:\n",
    "    data_path = pkg_resources.resource_filename(\"ecoval\", \"data/amm7_val_subdomains.nc\")\n",
    "    ds_regions = nc.open_data(data_path, checks = False)\n",
    "    # pull this in from the package data\n",
    "\n",
    "    ds_regions.as_missing(0)\n",
    "    ds_regions.set_fill(-9999)\n",
    "    ds_regions.run()\n",
    "    regions_contents = ds_regions.contents"
   ]
  },
  {
   "cell_type": "code",
   "execution_count": null,
   "id": "3e43aae8",
   "metadata": {
    "tags": [
     "remove-input"
    ]
   },
   "outputs": [],
   "source": [
    "try:\n",
    "    lon_name = [x for x in ds_regions.to_xarray().coords if \"lon\" in x][0]\n",
    "    lat_name = [x for x in ds_regions.to_xarray().coords if \"lat\" in x][0]\n",
    "    df_mapped = (\n",
    "        ds_regions\n",
    "        .to_dataframe()\n",
    "        .reset_index()\n",
    "        # rename the columns\n",
    "        .rename(columns = {lon_name: \"lon\", lat_name: \"lat\"})\n",
    "        .melt(id_vars = [\"lon\", \"lat\"])\n",
    "        .dropna()\n",
    "        .merge(regions_contents.loc[:,[\"variable\", \"long_name\"]])\n",
    "        .drop(columns = [ \"value\"])\n",
    "    )\n",
    "    bad = [\"Rosa\", \"Locate Shelf\"]\n",
    "    df_mapped = df_mapped.query(\"long_name not in @bad\")\n",
    "    xlim = np.array([df_mapped.lon.min(), df_mapped.lon.max()])\n",
    "    ylim = np.array([df_mapped.lat.min(), df_mapped.lat.max()])\n",
    "\n",
    "    def fix_name(x):\n",
    "        x = x.replace(\"North East\", \"NE\")\n",
    "        x = x.replace(\"North \", \"N \")\n",
    "        if x == \"Channel\":\n",
    "            x = \"English Channel\"\n",
    "        return x\n",
    "\n",
    "    fix_name = np.vectorize(fix_name)\n",
    "\n",
    "\n",
    "    df_mapped.long_name = fix_name(df_mapped.long_name)\n",
    "    regional = True\n",
    "except:\n",
    "    df_mapped = 1\n",
    "    regional = False\n",
    "\n",
    "\n"
   ]
  },
  {
   "cell_type": "code",
   "execution_count": null,
   "id": "0820ffa3",
   "metadata": {
    "tags": [
     "remove-input"
    ]
   },
   "outputs": [],
   "source": [
    "%%capture --no-display\n",
    "\n",
    "%%R -i regional -i df_mapped -i xlim -i ylim \n",
    "options(warn=-1)\n",
    "\n",
    "if (regional){\n",
    "\n",
    "    library(tidyverse)\n",
    "\n",
    "    world_map <- map_data(\"world\")\n",
    "\n",
    "    gg <-  ggplot(df_mapped)+\n",
    "        geom_tile(aes(x = lon, y = lat))+\n",
    "        coord_cartesian(xlim = xlim, ylim = ylim)+\n",
    "        theme_bw(base_size = 10)+\n",
    "        facet_wrap(~long_name)+\n",
    "        theme(axis.title.x = element_blank(),\n",
    "              axis.title.y = element_blank())\n",
    "\n",
    "y_labels <-  as.numeric(na.omit(layer_scales(gg)$y$break_positions()))\n",
    "x_labels <- as.numeric(na.omit(layer_scales(gg)$x$break_positions()))\n",
    "x_breaks <- x_labels\n",
    "y_breaks <- y_labels\n",
    "\n",
    "# y labels are north-south coordinates. Make them more appropriate\n",
    "# i.e. 10 should be 10 °N, -10 should be 10 °S\n",
    "\n",
    "y_labels <- ifelse(y_labels >= 0, paste0(y_labels, \"°N\"), paste0(abs(y_labels), \"°S\"))\n",
    "x_labels <- ifelse(x_labels >= 0, paste0(x_labels, \"°E\"), paste0(abs(x_labels), \"°W\"))\n",
    "\n",
    "gg <- gg + scale_y_continuous(breaks = y_breaks, labels = y_labels)+\n",
    "    scale_x_continuous(breaks = x_breaks, labels = x_labels)+\n",
    "        geom_polygon(data = world_map, aes(x = long, y = lat, group = group), fill = \"grey\", color = \"grey\")\n",
    "\n",
    "\n",
    "\n",
    "    gg\n",
    "\n",
    "}"
   ]
  },
  {
   "cell_type": "code",
   "execution_count": null,
   "id": "60a1c25f",
   "metadata": {
    "tags": [
     "remove-input"
    ]
   },
   "outputs": [],
   "source": [
    "if regional:\n",
    "    md(f\"**Figure {chapter}{i_figure}**: Regions used for validation.\")\n",
    "i_figure += 1"
   ]
  },
  {
   "cell_type": "code",
   "execution_count": null,
   "id": "a918b9a2",
   "metadata": {
    "tags": [
     "remove-input"
    ]
   },
   "outputs": [],
   "source": [
    "\n",
    "for vv in variables:\n",
    "    try:\n",
    "      df = [] \n",
    "      for i in range(num_models):\n",
    "        paths = glob.glob(model_dict[list(model_dict.keys())[i]] + \"/results/regionals/*\" + vv + \"_regionals.csv\")\n",
    "        paths = tidy_summary_paths(paths)\n",
    "        if i == 0:\n",
    "          name1 = os.path.basename(paths[0]).split(\"_\")[0].replace(\".nc\", \"\")\n",
    "        if i == 1:\n",
    "          name2 = os.path.basename(paths[0]).split(\"_\")[0].replace(\".nc\", \"\")\n",
    "        df1 = pd.read_csv(paths[0])\n",
    "        key = list(model_dict.keys())[i]\n",
    "        # change model to key in variable\n",
    "        df1[\"variable\"] = [x if x != \"model\" else key for x in df1[\"variable\"]]\n",
    "        df.append(df1)\n",
    "\n",
    "      # paths = glob.glob(model_dict[list(model_dict.keys())[1]] + \"/results/regionals/*\" + vv + \"_regionals.csv\")\n",
    "      # paths = tidy_summary_paths(paths)\n",
    "      # name2 = os.path.basename(paths[0]).split(\"_\")[0].replace(\".nc\", \"\")\n",
    "      # df2 = pd.read_csv(paths[0])\n",
    "      # key = list(model_dict.keys())[1]\n",
    "      # # change model to key in variable\n",
    "      # df2[\"variable\"] = [x if x != \"model\" else key for x in df2[\"variable\"]]\n",
    "      df = pd.concat(df)\n",
    "      df = df.dropna()\n",
    "      df = df.loc[:,[\"variable\", \"value\", \"month\", \"long_name\"]]\n",
    "      df = df.groupby([\"variable\", \"month\", \"long_name\"]).mean().reset_index()\n",
    "      # change month to month name\n",
    "      md(f\"## Can the model reproduce regional sea surface {fix_variable_name(vv)}?\")\n",
    "\n",
    "      comp_text = None\n",
    "      x = \"no\"\n",
    "      if name1 == name2:\n",
    "          if len(name1) > 0 and name1 != \"cor\":\n",
    "              source = name1.upper()\n",
    "              comp_text = f\"Regional spatial averages were calculated using monthly averages in the simulations and the observational data from **{source}**.\"\n",
    "      if comp_text is not None:\n",
    "          md(comp_text)\n",
    "\n",
    "      (\n",
    "          ggplot(df)+\n",
    "          geom_line(aes(x = \"month\", y = \"value\", color = \"variable\"))+\n",
    "          facet_wrap(\"long_name\", scales = \"free\")+\n",
    "          # legend at the top\n",
    "          # drop the legend name\n",
    "          # theme_bw()+\n",
    "          theme(legend_title = element_blank())+\n",
    "          theme(legend_position = \"top\")+\n",
    "          expand_limits(y = 0)+\n",
    "          # suitable breaks for months\n",
    "          scale_x_continuous(breaks = [2, 4, 6, 8, 10, 12 ], labels = [\"Feb\", \"Apr\", \"Jun\", \"Aug\", \"Oct\", \"Dec\"])+ \n",
    "          # rotate the x-axis labels\n",
    "            theme(axis_text_x = element_text(angle = 45))+\n",
    "          labs(y = vv, x = \"Month\")\n",
    "      )\n",
    "      md(f\"**Figure {i_figure}**. Spatial average **sea surface** {fix_variable_name(vv)} for each model in each region. The values shown are monthly climatologies.\")\n",
    "      i_figure = i_figure + 1\n",
    "    except:\n",
    "      pass\n",
    "\n"
   ]
  }
 ],
 "metadata": {
  "kernelspec": {
   "display_name": "Python 3",
   "language": "python",
   "name": "python3"
  },
  "language_info": {
   "codemirror_mode": {
    "name": "ipython",
    "version": 3
   },
   "file_extension": ".py",
   "mimetype": "text/x-python",
   "name": "python",
   "nbconvert_exporter": "python",
   "pygments_lexer": "ipython3",
   "version": "3.9.16"
  }
 },
 "nbformat": 4,
 "nbformat_minor": 5
}
