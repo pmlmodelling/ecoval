{
 "cells": [
  {
   "attachments": {},
   "cell_type": "markdown",
   "id": "d2963777",
   "metadata": {},
   "source": [
    "# Methods "
   ]
  },
  {
   "cell_type": "markdown",
   "id": "6d7689d8",
   "metadata": {},
   "source": [
    "## Definitions\n",
    "\n",
    "Assume that we have a model $m$ and observations $o$ of the same size $N$.\n",
    "\n",
    "**Root mean square deviation (RMSD)** \n",
    "<!-- 𝐵𝐼𝐴𝑆(𝑥, 𝑦) =\n",
    "1\n",
    "𝑁\n",
    "∑ (𝑥𝑖 − 𝑦𝑖\n",
    ") -->\n",
    "$$\n",
    "\\text{RMSD}(m, o) = \\sqrt{\\frac{1}{N} \\sum_{i=1}^{N} (m_i - o_i)^2}\n",
    "$$\n",
    "\n",
    "**Bias**\n",
    "\n",
    "$$\n",
    "\\text{Bias}(m, o) = \\frac{1}{N} \\sum_{i=1}^N (m_i - o_i)\n",
    "$$\n",
    "\n",
    "**Pearson correlation coefficient**\n",
    "\n",
    "$$\n",
    "\\text{Corr}(m, o) = \\frac{\\sum_{i=1}^N (m_i - \\bar{m})(o_i - \\bar{o})}{\\sqrt{\\sum_{i=1}^N (m_i - \\bar{m})^2 \\sum_{i=1}^N (o_i - \\bar{o})^2}}\n",
    "$$\n",
    "\n",
    "where $\\bar{m}$ and $\\bar{o}$ are the mean values of $m$ and $o$ respectively."
   ]
  },
  {
   "cell_type": "markdown",
   "id": "d1ddc65e",
   "metadata": {},
   "source": [
    "## Software used"
   ]
  },
  {
   "cell_type": "code",
   "execution_count": null,
   "id": "82c8b3f0",
   "metadata": {
    "tags": [
     "remove-input"
    ]
   },
   "outputs": [],
   "source": [
    "## Software used\n",
    "\n",
    "from IPython.display import Markdown as md\n",
    "\n",
    "text = \"\"\n",
    "text += \"Models were matched up with observational data using the Python package [nctoolkit](https://nctoolkit.readthedocs.io/). \"\n",
    "\n",
    "text += \"Plots were created using the Python package [nctoolkit](https://nctoolkit.readthedocs.io/),\"\n",
    "# figure out if any pft validation occcured\n",
    "import glob\n",
    "if len(glob.glob(\"../../matched/point/**/**/*pft*\")):\n",
    "    text += \"the R package [ggtern](https://cran.r-project.org/web/packages/ggtern/index.html),\"\n",
    "text += \" and the R package [ggplot2](https://ggplot2.tidyverse.org/).\"\n",
    "text += \" Data analysis was performed using the Python packages [pandas](https://pandas.pydata.org/), [nctoolkit](https://nctoolkit.readthedocs.io/), and [statsmodels](https://www.statsmodels.org/stable/index.html).\" \n",
    "# ensure spaces after comma\n",
    "text = text.replace(\",\",\", \")\n",
    "# ensure no double spaces\n",
    "text = text.replace(\"  \",\" \")\n",
    "\n",
    "md(text)\n",
    "\n",
    "\n",
    "\n"
   ]
  },
  {
   "cell_type": "markdown",
   "id": "2d040ab5",
   "metadata": {},
   "source": []
  }
 ],
 "metadata": {
  "celltoolbar": "Tags",
  "kernelspec": {
   "display_name": "Python 3 (ipykernel)",
   "language": "python",
   "name": "python3"
  },
  "language_info": {
   "codemirror_mode": {
    "name": "ipython",
    "version": 3
   },
   "file_extension": ".py",
   "mimetype": "text/x-python",
   "name": "python",
   "nbconvert_exporter": "python",
   "pygments_lexer": "ipython3",
   "version": "3.9.16"
  }
 },
 "nbformat": 4,
 "nbformat_minor": 5
}
