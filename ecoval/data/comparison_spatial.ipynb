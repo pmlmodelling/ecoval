{
 "cells": [
  {
   "cell_type": "markdown",
   "id": "0ea74248",
   "metadata": {},
   "source": [
    "# Ability of models to reproduce spatial patterns "
   ]
  },
  {
   "cell_type": "code",
   "execution_count": null,
   "id": "224944b6",
   "metadata": {
    "tags": [
     "remove-cell"
    ]
   },
   "outputs": [],
   "source": [
    "chunk_start"
   ]
  },
  {
   "cell_type": "markdown",
   "id": "6cf2b9dc",
   "metadata": {},
   "source": [
    "The ability of the models to reproduce spatial patterns for key variables at the **sea surface** was assessed by comparing the modelled value and the observed values in each grid cell.\n",
    "The spatial correlation coefficient was used to quantify the spatial pattern similarity between the modelled and observed values. This was calculated for each variable and each model using the values in each grid cell.\n",
    "\n",
    "Models were compared by regridding each one to the same grid and ensuring grid cells with missing values in at least one model were excluded.\n",
    "\n",
    "**Note**: these summaries provided performance across the entire domain. The results are only strictly comparable when model grids are the same."
   ]
  },
  {
   "cell_type": "code",
   "execution_count": null,
   "id": "abe6c2b7",
   "metadata": {
    "tags": [
     "remove-cell"
    ]
   },
   "outputs": [],
   "source": [
    "i_figure = 1\n",
    "model_dict = model_dict_str \n",
    "num_models = len(model_dict)"
   ]
  },
  {
   "cell_type": "code",
   "execution_count": null,
   "id": "c445cc99",
   "metadata": {
    "tags": [
     "remove-cell"
    ]
   },
   "outputs": [],
   "source": [
    "annual_paths = []\n",
    "for key in model_dict:\n",
    "    if not os.path.exists(model_dict[key] + \"/results/annual_mean/\"):\n",
    "        raise ValueError(\"No annual mean folder found for \" + key)\n",
    "    paths = glob.glob(model_dict[key] + \"/results/annual_mean/*\")\n",
    "    paths = tidy_summary_paths(paths)\n",
    "    annual_paths.append(\n",
    "        pd.DataFrame({\"path\": paths})\n",
    "        .assign(model = key)\n",
    "    )\n",
    "\n",
    "annual_paths = pd.concat(annual_paths)\n",
    "\n",
    "annual_paths[\"base_name\"] = annual_paths[\"path\"].apply(lambda x: os.path.basename(x))\n",
    "# only interested in netcdf file in path\n",
    "annual_paths = annual_paths[annual_paths[\"base_name\"].str.contains(\".nc\")]\n",
    "annual_paths[\"base_name\"] = annual_paths[\"base_name\"].apply(fix_basename)\n",
    "\n",
    "\n"
   ]
  },
  {
   "cell_type": "code",
   "execution_count": null,
   "id": "5295b3c1",
   "metadata": {
    "tags": [
     "remove-cell"
    ]
   },
   "outputs": [],
   "source": [
    "annual_paths = (\n",
    "    annual_paths\n",
    "    .groupby(\"base_name\")\n",
    "    .count()\n",
    "      .query(\"model > 1\")\n",
    "      .reset_index()\n",
    "      .drop(columns = [\"path\", \"model\"])\n",
    "      .merge(annual_paths)\n",
    "    )"
   ]
  },
  {
   "cell_type": "code",
   "execution_count": null,
   "id": "b4b61904",
   "metadata": {
    "tags": [
     "remove-cell"
    ]
   },
   "outputs": [],
   "source": [
    "base_names = annual_paths.base_name.unique() "
   ]
  },
  {
   "cell_type": "code",
   "execution_count": null,
   "id": "cf964f4a",
   "metadata": {
    "tags": [
     "remove-cell",
     "remove-input"
    ]
   },
   "outputs": [],
   "source": [
    "output = dict()\n",
    "# list to track data frames with correlation coefficients\n",
    "df_cor = []\n",
    "for bb in base_names:\n",
    "    variable = bb.split(\"_\")[1].replace(\".nc\", \"\")\n",
    "    bb_paths = annual_paths.query(\"base_name == @bb\").reset_index(drop = True)\n",
    "    n_cols = len(bb_paths)\n",
    "    # generate the mask first\n",
    "\n",
    "    ds_mask = nc.open_data(bb_paths.path[0])\n",
    "    ds_mask.run()\n",
    "    for ff in bb_paths.path[1:]:\n",
    "        ds_ff = nc.open_data(ff)\n",
    "        ds_ff.regrid(ds_mask, \"nn\")\n",
    "        ds_mask * ds_ff\n",
    "        ds_mask.run()\n",
    "        ds_mask.abs()\n",
    "        ds_mask > 0\n",
    "        ds_mask.run()\n",
    "    df_mask = (\n",
    "        ds_mask.to_dataframe()\n",
    "        .dropna()\n",
    "        .reset_index()\n",
    "    )\n",
    "    lon_name = [x for x in df_mask.columns if \"lon\" in x][0]\n",
    "    lat_name = [x for x in df_mask.columns if \"lat\" in x][0]\n",
    "    # rename\n",
    "    df_mask = df_mask.rename(columns = {lon_name: \"lon\", lat_name: \"lat\"})\n",
    "    lon_min = df_mask.lon.min()\n",
    "    lon_max = df_mask.lon.max()\n",
    "    lat_min = df_mask.lat.min()\n",
    "    lat_max = df_mask.lat.max()\n",
    "    lons = [lon_min, lon_max]\n",
    "    lats = [lat_min, lat_max]\n",
    "    ds_mask.subset(lon = lons, lat = lats)\n",
    "    ds_mask.run()\n",
    "\n",
    "\n",
    "\n",
    "\n",
    "    for i in range(0, len(bb_paths)):\n",
    "        ds = nc.open_data(bb_paths.path[i])\n",
    "        ds.regrid(ds_mask, \"nn\")\n",
    "        ds * ds_mask\n",
    "        ds.run()\n",
    "        #get the model run name\n",
    "        model_name = bb_paths.model[i]\n",
    "        ds.cor_space(\"model\", \"observation\")\n",
    "        cor_value = ds.to_dataframe().dropna().reset_index().cor[0]\n",
    "        # stick this in a dataframme\n",
    "        df_cor.append(\n",
    "            pd.DataFrame({\"model\": [model_name], \"variable\": variable, \"cor\": cor_value})\n",
    "        )\n"
   ]
  },
  {
   "cell_type": "code",
   "execution_count": null,
   "id": "4b406c18",
   "metadata": {
    "tags": [
     "remove-cell"
    ]
   },
   "outputs": [],
   "source": [
    "df_cor = pd.concat(df_cor)"
   ]
  },
  {
   "cell_type": "code",
   "execution_count": null,
   "id": "fe29ab01",
   "metadata": {
    "tags": [
     "remove-input"
    ]
   },
   "outputs": [],
   "source": [
    "# spread model and cor in columns\n",
    "df_display(\n",
    "    df_cor.pivot(index = \"variable\", columns = \"model\", values = \"cor\").reset_index()\n",
    ")\n",
    "md(f\"**Figure {i_figure}**: Correlation coefficients between annual mean sea surface values for each model and the observation data for each variable.\")     \n",
    "i_figure += 1"
   ]
  }
 ],
 "metadata": {
  "kernelspec": {
   "display_name": "Python 3",
   "language": "python",
   "name": "python3"
  },
  "language_info": {
   "codemirror_mode": {
    "name": "ipython",
    "version": 3
   },
   "file_extension": ".py",
   "mimetype": "text/x-python",
   "name": "python",
   "nbconvert_exporter": "python",
   "pygments_lexer": "ipython3",
   "version": "3.9.16"
  }
 },
 "nbformat": 4,
 "nbformat_minor": 5
}
