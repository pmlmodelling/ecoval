{
 "cells": [
  {
   "cell_type": "markdown",
   "metadata": {},
   "source": [
    "# Stratification validation using ICES temperature"
   ]
  },
  {
   "cell_type": "code",
   "execution_count": null,
   "metadata": {
    "tags": [
     "remove-cell"
    ]
   },
   "outputs": [],
   "source": [
    "chunk_start"
   ]
  },
  {
   "cell_type": "markdown",
   "metadata": {},
   "source": [
    "The ability of the model to represent the vertical structure of temperature was assessed by calculating the mixed layer depth (MLD) and comparing it to the MLD calculated from the observations. \n",
    "\n",
    "\n",
    "\n",
    "\n",
    "Vertical profiles of temperature were extracted from the ICES oceanographic database. The dataset was pruned to remove profiles with poor quality vertical coverage. First, we removed any profiles without temperature for the top 5 metres. We then removed profiles with less than 10 temperature measurements. Finally, we removed profiles which did not have a temperature record deeper than 80% of the bathymetry. \n",
    "\n",
    "\n"
   ]
  },
  {
   "cell_type": "markdown",
   "metadata": {
    "tags": [
     "remove-cell"
    ]
   },
   "source": [
    "## Read in the data"
   ]
  },
  {
   "cell_type": "code",
   "execution_count": null,
   "metadata": {
    "tags": [
     "remove-input"
    ]
   },
   "outputs": [],
   "source": [
    "import seawater as sw\n",
    "ff = glob.glob(\"../../matched/point/**/all/temperature/*temperature*.csv\")[0]\n",
    "df = pd.read_csv(ff)\n",
    "df[\"pressure\"] = sw.eos80.pres(df.depth, df.lat)\n"
   ]
  },
  {
   "cell_type": "markdown",
   "metadata": {
    "tags": [
     "remove-input",
     "remove-cell"
    ]
   },
   "source": [
    "## Extract the profiles\n",
    "This needs more quality control\n",
    "\n",
    "All it does is extract vertical profiles with more than 9 points"
   ]
  },
  {
   "cell_type": "code",
   "execution_count": null,
   "metadata": {
    "tags": [
     "remove-input"
    ]
   },
   "outputs": [],
   "source": [
    "profiles = (\n",
    "    df.groupby([\"lon\", \"lat\", \"day\", \"month\", \"year\"]).size().reset_index(name = \"count\")\n",
    "    .query(\"count > 9\")\n",
    "    .drop(\"count\", axis = 1)\n",
    "    .reset_index(drop = True)\n",
    ")"
   ]
  },
  {
   "cell_type": "code",
   "execution_count": null,
   "metadata": {
    "tags": [
     "remove-cell"
    ]
   },
   "outputs": [],
   "source": [
    "def get_mld(i_df):\n",
    "    try:\n",
    "        # raise ValueError(\"here\")\n",
    "        h = HolteAndTalley(list(i_df.pressure),list(i_df.model))\n",
    "        h1 = h.tempMLD\n",
    "        max_grad_model = max(h.temp.temperatureGradients)\n",
    "         ##The temperature algorithms mixed layer depth\n",
    "\n",
    "        h = HolteAndTalley(list(i_df.pressure),list(i_df.observation))\n",
    "        h2 = h.tempMLD\n",
    "        max_grad_obs = max(h.temp.temperatureGradients)\n",
    "        return  pd.DataFrame({\"model\": [h1], \"observation\": h2, \"max_grad_model\": max_grad_model, \"max_grad_obs\": max_grad_obs})\n",
    "    except:\n",
    "        return  pd.DataFrame({\"model\": [np.nan], \"observation\": np.nan, \"max_grad_model\": np.nan, \"max_grad_obs\": np.nan})\n",
    "        return None\n",
    "\n",
    "n_sample = min(3000, len(profiles))\n",
    "\n",
    "profile_mld = (\n",
    "    profiles\n",
    "    .sample(n = n_sample)\n",
    "    .merge(df)\n",
    "    .groupby([\"lon\", \"lat\", \"year\", \"month\", \"day\"])\n",
    "    .apply(get_mld)\n",
    "    .reset_index()\n",
    "    .drop(columns = \"level_5\")\n",
    "    .loc[:,[\"lon\", \"lat\", \"year\", \"month\", \"day\", \"model\", \"observation\"]]\n",
    "    .dropna()\n",
    ")"
   ]
  },
  {
   "cell_type": "code",
   "execution_count": null,
   "metadata": {
    "tags": [
     "remove-input"
    ]
   },
   "outputs": [],
   "source": [
    "%%capture --no-display\n",
    "\n",
    "%%R -i profile_mld -w 1600 -h 1000\n",
    "# increase plot size\n",
    "\n",
    "if (nrow(profile_mld) > 0) {\n",
    "library(tidyverse, warn.conflicts = FALSE)\n",
    "world_map <- map_data(\"world\")\n",
    "profile_mld <- profile_mld \n",
    "# get lon, lat limits from profile_mld\n",
    "\n",
    "xlim = c(min(profile_mld$lon), max(profile_mld$lon))\n",
    "ylim = c(min(profile_mld$lat), max(profile_mld$lat))\n",
    "\n",
    "\n",
    "\n",
    "\n",
    "gg <- profile_mld %>%\n",
    "    ggplot()+\n",
    "    geom_point(aes(lon, lat))+\n",
    "    theme_gray(base_size = 28)+\n",
    "    # add colour scale. Minimum zero, label 100, \">100\"\n",
    "    coord_fixed(xlim = xlim, ylim = ylim, ratio = 1.5) +\n",
    "    # move legend to the top. Make it 3 cm wide\n",
    "    theme(legend.position = \"bottom\", legend.key.width = unit(3, \"cm\")) +\n",
    "    # move legend title to the bottom and centre it\n",
    "    theme(legend.title = element_text(hjust = 1, margin = margin(t = 1, unit = \"cm\")))\n",
    "\n",
    "    # move legen\n",
    "\n",
    "\n",
    "y_labels <-  as.numeric(na.omit(layer_scales(gg)$y$break_positions()))\n",
    "x_labels <- as.numeric(na.omit(layer_scales(gg)$x$break_positions()))\n",
    "x_breaks <- x_labels\n",
    "y_breaks <- y_labels\n",
    "\n",
    "# y labels are north-south coordinates. Make them more appropriate\n",
    "# i.e. 10 should be 10 °N, -10 should be 10 °S\n",
    "\n",
    "y_labels <- ifelse(y_labels >= 0, paste0(y_labels, \"°N\"), paste0(abs(y_labels), \"°S\"))\n",
    "x_labels <- ifelse(x_labels >= 0, paste0(x_labels, \"°E\"), paste0(abs(x_labels), \"°W\"))\n",
    "\n",
    "gg <- gg +\n",
    "    scale_y_continuous(breaks = y_breaks, labels = y_labels) +\n",
    "    scale_x_continuous(breaks = x_breaks, labels = x_labels) +\n",
    "    geom_polygon(data = world_map, aes(long, lat, group = group), fill = \"grey60\")+\n",
    "    labs(x = \"\", y = \"\")\n",
    "\n",
    "gg\n",
    "}"
   ]
  },
  {
   "cell_type": "code",
   "execution_count": null,
   "metadata": {
    "tags": [
     "remove-input"
    ]
   },
   "outputs": [],
   "source": [
    "md(f\"**Figure {chapter}{i_figure}**: Map of the locations of the temperature profiles used to calculate mixed layer depth.\")\n",
    "i_figure += 1 "
   ]
  },
  {
   "cell_type": "code",
   "execution_count": null,
   "metadata": {
    "tags": [
     "remove-input"
    ]
   },
   "outputs": [],
   "source": [
    "md(f\"In total there are **{len(profile_mld)}** profiles across all months. The table below shows the number of profiles per month.\") \n",
    "import calendar\n",
    "    \n",
    "df1 = (\n",
    "        profile_mld\n",
    "        .groupby([\"month\"])\n",
    "        .size()\n",
    "        .reset_index(name = \"count\")\n",
    ")\n",
    "\n",
    "\n",
    "gg = (\n",
    "        ggplot(df1)+\n",
    "        geom_bar(aes(x = \"month\", y = \"count\"), stat = \"identity\")+\n",
    "        labs(x = \"Month\", y = \"Number of profiles\")+\n",
    "        scale_x_continuous(breaks = range(1,13), labels = calendar.month_abbr[1:13])\n",
    "\n",
    ")\n",
    "\n",
    "gg = gg.draw()\n",
    "gg\n",
    "\n",
    "\n"
   ]
  },
  {
   "cell_type": "code",
   "execution_count": null,
   "metadata": {
    "tags": [
     "remove-input"
    ]
   },
   "outputs": [],
   "source": [
    "md(f\"**Figure {chapter}{i_figure}**. Number of profiles per month.\")\n",
    "i_figure += 1"
   ]
  },
  {
   "cell_type": "code",
   "execution_count": null,
   "metadata": {
    "tags": [
     "remove-cell"
    ]
   },
   "outputs": [],
   "source": [
    "## work out whether model/observations are stratified\n",
    "# stratification is defined when the difference between the surface and bottom temperature is greater than 0.5 degrees\n",
    "\n",
    "df_strat = (\n",
    "    profiles\n",
    "    .merge(df)\n",
    "    .merge(profile_mld.loc[:,[\"lon\", \"lat\", \"year\", \"month\", \"day\"]])\n",
    "    .drop(columns = \"pressure\")\n",
    "    .melt(id_vars = [\"lon\", \"lat\", \"day\", \"month\", \"year\", \"depth\"])\n",
    "    .rename(columns = {\"value\": \"temperature\", \"variable\": \"source\"})\n",
    "    .groupby([\"lon\", \"lat\", \"day\", \"month\", \"year\", \"source\"])\n",
    "    .agg({\"temperature\": [\"min\", \"max\"]})\n",
    "    .reset_index()\n",
    "    .assign(stratified = lambda x: x.temperature[\"max\"] - x.temperature[\"min\"] > 0.5)\n",
    "    .drop(columns = \"temperature\")\n",
    ")\n",
    "df_strat = df_strat.reset_index(drop = True)\n",
    "df_strat.columns = [x[0] for x in list(df_strat.columns)]"
   ]
  },
  {
   "cell_type": "markdown",
   "metadata": {
    "tags": [
     "remove-input"
    ]
   },
   "source": [
    "## Accuracy of stratification\n",
    "\n",
    "We first identify whether the model and observations are stratified or not. This uses a simple metric of the difference between the surface and bottom temperature. If this is greater than 0.5 degrees, then the profile is considered stratified.\n",
    "\n"
   ]
  },
  {
   "cell_type": "code",
   "execution_count": null,
   "metadata": {
    "tags": [
     "remove-input"
    ]
   },
   "outputs": [],
   "source": [
    "%%capture --no-display\n",
    "%%R -i df_strat -w 1600 -h 800\n",
    "\n",
    "if(nrow(df_strat) > 0){\n",
    "# increase plot size\n",
    "\n",
    "library(tidyverse, warn.conflicts = FALSE)\n",
    "world_map <- map_data(\"world\")\n",
    "# get lon, lat limits from profile_mld\n",
    "\n",
    "xlim = c(min(df_strat$lon), max(df_strat$lon))\n",
    "ylim = c(min(df_strat$lat), max(df_strat$lat))\n",
    "\n",
    "# cap value at 100\n",
    "\n",
    "# convert month to Jan, Feb, etc.\n",
    "# df_strat$month <- factor(df_strat$month, levels = c(\"Jan\", \"Feb\", \"Mar\", \"Apr\", \"May\", \"Jun\", \"Jul\", \"Aug\", \"Sep\", \"Oct\", \"Nov\", \"Dec\"))\n",
    "df_strat <- df_strat %>%\n",
    "    arrange(month)\n",
    "df_strat$month <- factor(df_strat$month, levels = df_strat$month, labels = month.abb[df_strat$month])\n",
    "\n",
    "\n",
    "gg <- df_strat %>%\n",
    "# # # first six months of the year\n",
    "    filter(month %in% c(\"Jan\", \"Feb\", \"Mar\", \"Apr\", \"May\", \"Jun\")) %>%\n",
    "    ggplot()+\n",
    "    geom_point(aes(lon, lat, colour = stratified), size = 0.5)+\n",
    "    facet_grid(source~month)+\n",
    "    theme_gray(base_size = 28)+\n",
    "#     # add colour scale. Minimum zero, label 100, \">100\"\n",
    "    coord_fixed(xlim = xlim, ylim = ylim, ratio = 1.5) +\n",
    "    # red-blue colour scale\n",
    "    scale_color_manual(values = c(\"blue\", \"red\"))+\n",
    "    # no legend\n",
    "    theme(legend.position = \"none\")\n",
    "\n",
    "\n",
    "y_labels <-  as.numeric(na.omit(layer_scales(gg)$y$break_positions()))\n",
    "x_labels <- as.numeric(na.omit(layer_scales(gg)$x$break_positions()))\n",
    "x_breaks <- x_labels\n",
    "y_breaks <- y_labels\n",
    "\n",
    "# y labels are north-south coordinates. Make them more appropriate\n",
    "# i.e. 10 should be 10 °N, -10 should be 10 °S\n",
    "\n",
    "y_labels <- ifelse(y_labels >= 0, paste0(y_labels, \"°N\"), paste0(abs(y_labels), \"°S\"))\n",
    "x_labels <- ifelse(x_labels >= 0, paste0(x_labels, \"°E\"), paste0(abs(x_labels), \"°W\"))\n",
    "\n",
    "gg <- gg + scale_y_continuous(breaks = y_breaks, labels = y_labels)+\n",
    "    scale_x_continuous(breaks = x_breaks, labels = x_labels)+\n",
    "    geom_polygon(data = world_map, aes(long, lat, group = group), fill = \"grey60\")+\n",
    "    labs(x = \"\", y = \"\")\n",
    "\n",
    "    # move legen\n",
    "\n",
    "gg\n",
    "\n",
    "}"
   ]
  },
  {
   "cell_type": "code",
   "execution_count": null,
   "metadata": {
    "tags": [
     "remove-input"
    ]
   },
   "outputs": [],
   "source": [
    "%%capture --no-display\n",
    "%%R -i df_strat -w 1600 -h 800\n",
    "# increase plot size\n",
    "if(nrow(df_strat) > 0){\n",
    "library(tidyverse, warn.conflicts = FALSE)\n",
    "world_map <- map_data(\"world\")\n",
    "# get lon, lat limits from profile_mld\n",
    "\n",
    "xlim = c(min(df_strat$lon), max(df_strat$lon))\n",
    "ylim = c(min(df_strat$lat), max(df_strat$lat))\n",
    "\n",
    "# cap value at 100\n",
    "\n",
    "# convert month to Jan, Feb, etc.\n",
    "# df_strat$month <- factor(df_strat$month, levels = c(\"Jan\", \"Feb\", \"Mar\", \"Apr\", \"May\", \"Jun\", \"Jul\", \"Aug\", \"Sep\", \"Oct\", \"Nov\", \"Dec\"))\n",
    "df_strat <- df_strat %>%\n",
    "    arrange(month)\n",
    "df_strat$month <- factor(df_strat$month, levels = df_strat$month, labels = month.abb[df_strat$month])\n",
    "\n",
    "\n",
    "gg <- df_strat %>%\n",
    "# # # first six months of the year\n",
    "#final six months of the year\n",
    "    filter(month %in% c(\"Jul\", \"Aug\", \"Sep\", \"Oct\", \"Nov\", \"Dec\")) %>%\n",
    "    ggplot()+\n",
    "    geom_point(aes(lon, lat, colour = stratified), size = 0.5)+\n",
    "    facet_grid(source~month)+\n",
    "    theme_gray(base_size = 28)+\n",
    "#     # add colour scale. Minimum zero, label 100, \">100\"\n",
    "    coord_fixed(xlim = xlim, ylim = ylim, ratio = 1.5) +\n",
    "    # red-blue colour scale\n",
    "    scale_color_manual(values = c(\"blue\", \"red\"))+\n",
    "    # no legend\n",
    "    theme(legend.position = \"none\")\n",
    "\n",
    "y_labels <-  as.numeric(na.omit(layer_scales(gg)$y$break_positions()))\n",
    "x_labels <- as.numeric(na.omit(layer_scales(gg)$x$break_positions()))\n",
    "x_breaks <- x_labels\n",
    "y_breaks <- y_labels\n",
    "\n",
    "# y labels are north-south coordinates. Make them more appropriate\n",
    "# i.e. 10 should be 10 °N, -10 should be 10 °S\n",
    "\n",
    "y_labels <- ifelse(y_labels >= 0, paste0(y_labels, \"°N\"), paste0(abs(y_labels), \"°S\"))\n",
    "x_labels <- ifelse(x_labels >= 0, paste0(x_labels, \"°E\"), paste0(abs(x_labels), \"°W\"))\n",
    "\n",
    "gg <- gg + scale_y_continuous(breaks = y_breaks, labels = y_labels)+\n",
    "    scale_x_continuous(breaks = x_breaks, labels = x_labels)+\n",
    "    geom_polygon(data = world_map, aes(long, lat, group = group), fill = \"grey60\")\n",
    "\n",
    "gg <- gg +\n",
    "    labs(x = \"\", y = \"\")\n",
    "\n",
    "    # move legen\n",
    "\n",
    "gg\n",
    "\n",
    "}"
   ]
  },
  {
   "cell_type": "code",
   "execution_count": null,
   "metadata": {
    "tags": [
     "remove-input"
    ]
   },
   "outputs": [],
   "source": [
    "md(f\"**Figure {chapter}{i_figure}:** Stratification of the water column. Red indicates stratified, blue indicates unstratified. Stratification is defined based the difference between the sea surface and bottom temperature being greater than 0.5 degrees.\")\n",
    "i_figure += 1"
   ]
  },
  {
   "cell_type": "code",
   "execution_count": null,
   "metadata": {
    "tags": [
     "remove-input"
    ]
   },
   "outputs": [],
   "source": [
    "gg = (\n",
    "    ggplot(df_strat.groupby([\"source\", \"month\"]).agg({\"stratified\": \"mean\"}).reset_index())+\n",
    "    geom_line(aes(\"month\", \"stratified\", colour = \"source\"))+\n",
    "    labs(x = \"Month\", y = \"Proportion of profiles stratified\")\n",
    ")\n",
    "gg = gg.draw()\n",
    "gg\n"
   ]
  },
  {
   "cell_type": "code",
   "execution_count": null,
   "metadata": {
    "tags": [
     "remove-input"
    ]
   },
   "outputs": [],
   "source": [
    "md(f\"**Figure {chapter}{i_figure}**: Proportion of profiles stratified by month in the model and ICES profiles.\")\n",
    "i_figure += 1"
   ]
  },
  {
   "cell_type": "markdown",
   "metadata": {},
   "source": [
    "## Analysis of mixed layer depth\n",
    "\n",
    "Mixed layer depth was calculated using the [Holte and Talley (2009) method](https://journals.ametsoc.org/view/journals/atot/26/9/2009jtecho543_1.xml), which uses temperature and pressure as input.\n"
   ]
  },
  {
   "cell_type": "code",
   "execution_count": null,
   "metadata": {
    "tags": [
     "remove-input"
    ]
   },
   "outputs": [],
   "source": [
    "%%capture --no-display\n",
    "%%R -i profile_mld -w 1600 -h 700 \n",
    "# increase plot size\n",
    "\n",
    "if (nrow(profile_mld) > 0){\n",
    "\n",
    "library(tidyverse, warn.conflicts = FALSE)\n",
    "world_map <- map_data(\"world\")\n",
    "profile_mld <- profile_mld \n",
    "# get lon, lat limits from profile_mld\n",
    "\n",
    "xlim = c(min(profile_mld$lon), max(profile_mld$lon))\n",
    "ylim = c(min(profile_mld$lat), max(profile_mld$lat))\n",
    "\n",
    "profile_mld <- profile_mld %>%\n",
    "    gather(variable, value, model:observation)\n",
    "\n",
    "# convert month number to month in profile_mld\n",
    "profile_md <- profile_mld %>%\n",
    "    arrange(month)\n",
    "# profile_mld$month <- factor(profile_mld$month, levels = profile_mld$month, labels = month.abb[profile_mld$month])\n",
    "\n",
    "profile_mld <- profile_mld %>%\n",
    "    mutate(month = factor(month, levels = 1:12, labels = month.abb[1:12])) %>%\n",
    "    filter(month %in% c(\"Jan\", \"Feb\", \"Mar\", \"Apr\", \"May\", \"Jun\"))\n",
    "\n",
    "# cap value at 100\n",
    "\n",
    "profile_mld$value <- ifelse(profile_mld$value > 50, 50, profile_mld$value)\n",
    "\n",
    "gg <- profile_mld %>%\n",
    "# first six months of the year\n",
    "    # filter(month %in% c(\"Jan\", \"Feb\", \"Mar\", \"Apr\", \"May\", \"Jun\")) %>% \n",
    "    ggplot()+\n",
    "    geom_point(aes(lon, lat, colour = value))+\n",
    "    facet_grid(variable~month)+\n",
    "    theme_gray(base_size = 28)+\n",
    "    # add colour scale. Minimum zero, label 100, \">100\"\n",
    "    scale_color_viridis_c(breaks = seq(0, 50, 10), labels = c(\"0\", \"10\", \"20\", \"30\", \"40\", \">50\"))+\n",
    "    coord_fixed(xlim = xlim, ylim = ylim, ratio = 1.5) +\n",
    "    # remove legend\n",
    "    theme(legend.position = \"none\")\n",
    "    # move legen\n",
    "\n",
    "    y_labels <-  as.numeric(na.omit(layer_scales(gg)$y$break_positions()))\n",
    "x_labels <- as.numeric(na.omit(layer_scales(gg)$x$break_positions()))\n",
    "x_breaks <- x_labels\n",
    "y_breaks <- y_labels\n",
    "\n",
    "# y labels are north-south coordinates. Make them more appropriate\n",
    "# i.e. 10 should be 10 °N, -10 should be 10 °S\n",
    "\n",
    "y_labels <- ifelse(y_labels >= 0, paste0(y_labels, \"°N\"), paste0(abs(y_labels), \"°S\"))\n",
    "x_labels <- ifelse(x_labels >= 0, paste0(x_labels, \"°E\"), paste0(abs(x_labels), \"°W\"))\n",
    "\n",
    "gg <- gg + scale_y_continuous(breaks = y_breaks, labels = y_labels)+\n",
    "    scale_x_continuous(breaks = x_breaks, labels = x_labels)+\n",
    "    geom_polygon(data = world_map, aes(long, lat, group = group), fill = \"grey60\")+\n",
    "    labs(x = \"\", y = \"\")\n",
    "\n",
    "gg\n",
    "}"
   ]
  },
  {
   "cell_type": "code",
   "execution_count": 1,
   "metadata": {
    "tags": [
     "remove-input"
    ]
   },
   "outputs": [],
   "source": [
    "%%capture --no-display\n",
    "\n",
    "%%R -i profile_mld -w 1600 -h 800\n",
    "# increase plot size\n",
    "\n",
    "if (nrow(profile_mld) > 0){\n",
    "\n",
    "library(tidyverse, warn.conflicts = FALSE)\n",
    "world_map <- map_data(\"world\")\n",
    "profile_mld <- profile_mld \n",
    "# get lon, lat limits from profile_mld\n",
    "\n",
    "xlim = c(min(profile_mld$lon), max(profile_mld$lon))\n",
    "ylim = c(min(profile_mld$lat), max(profile_mld$lat))\n",
    "\n",
    "profile_mld <- profile_mld %>%\n",
    "    gather(variable, value, model:observation)\n",
    "\n",
    "# convert month number to month in profile_mld\n",
    "profile_md <- profile_mld %>%\n",
    "    arrange(month)\n",
    "# profile_mld$month <- factor(profile_mld$month, levels = profile_mld$month, labels = month.abb[profile_mld$month])\n",
    "\n",
    "# cap value at 100\n",
    "\n",
    "profile_mld$value <- ifelse(profile_mld$value > 50, 50, profile_mld$value)\n",
    "\n",
    "profile_mld <- profile_mld %>%\n",
    "    mutate(month = factor(month, levels = 1:12, labels = month.abb[1:12])) %>%\n",
    "    filter(month %in% c(\"Jan\", \"Feb\", \"Mar\", \"Apr\", \"May\", \"Jun\")) \n",
    "\n",
    "gg <- profile_mld %>%\n",
    "# final six months of the year\n",
    "    # filter(month %in% c(\"Jul\", \"Aug\", \"Sep\", \"Oct\", \"Nov\", \"Dec\")) %>% \n",
    "    ggplot()+\n",
    "    geom_point(aes(lon, lat, colour = value))+\n",
    "    facet_grid(variable~month)+\n",
    "    theme_gray(base_size = 28)+\n",
    "    # add colour scale. Minimum zero, label 100, \">100\"\n",
    "    coord_fixed(xlim = xlim, ylim = ylim, ratio = 1.5) +\n",
    "    # move legend to the top. Make it 3 cm wide\n",
    "    # move legend title to the bottom and centre it\n",
    "    scale_color_viridis_c(breaks = seq(0, 50, 10), labels = c(\"0\", \"10\", \"20\", \"30\", \"40\", \">50\"),\n",
    "                       guide = guide_colorbar(title.position = \"bottom\", title.hjust = 0.5, title.theme = element_text(angle = 0, size = 20, family = \"Helvetica\"))\n",
    "  )+\n",
    "    theme(\n",
    "    legend.position = \"bottom\", legend.direction = \"horizontal\", legend.box = \"horizontal\", legend.key.width = unit(8.0, \"cm\"),\n",
    "    legend.key.height = unit(1.0, \"cm\"))+\n",
    "    # set the legend title to bias\n",
    "    labs(colour = \"Mixed Layer Depth (m)\")\n",
    "\n",
    "\n",
    "y_labels <-  as.numeric(na.omit(layer_scales(gg)$y$break_positions()))\n",
    "x_labels <- as.numeric(na.omit(layer_scales(gg)$x$break_positions()))\n",
    "x_breaks <- x_labels\n",
    "y_breaks <- y_labels\n",
    "\n",
    "# y labels are north-south coordinates. Make them more appropriate\n",
    "# i.e. 10 should be 10 °N, -10 should be 10 °S\n",
    "\n",
    "y_labels <- ifelse(y_labels >= 0, paste0(y_labels, \"°N\"), paste0(abs(y_labels), \"°S\"))\n",
    "x_labels <- ifelse(x_labels >= 0, paste0(x_labels, \"°E\"), paste0(abs(x_labels), \"°W\"))\n",
    "\n",
    "gg <- gg + scale_y_continuous(breaks = y_breaks, labels = y_labels)+\n",
    "    scale_x_continuous(breaks = x_breaks, labels = x_labels)+\n",
    "    geom_polygon(data = world_map, aes(long, lat, group = group), fill = \"grey60\")+\n",
    "    labs(x = \"\", y = \"\")\n",
    "    # move legen\n",
    "\n",
    "gg\n",
    "}"
   ]
  },
  {
   "cell_type": "code",
   "execution_count": null,
   "metadata": {
    "tags": [
     "remove-input"
    ]
   },
   "outputs": [],
   "source": [
    "md(f\"**Figure {chapter}{i_figure}**: Spatial distribution of the mixed layer depth (m) in the model and observations.\") \n",
    "i_figure += 1"
   ]
  },
  {
   "cell_type": "code",
   "execution_count": null,
   "metadata": {
    "tags": [
     "remove-input"
    ]
   },
   "outputs": [],
   "source": [
    "%%capture --no-display\n",
    "\n",
    "%%R -i profile_mld -w 800 -h 800\n",
    "\n",
    "library(tidyverse, warn.conflicts = FALSE)\n",
    "\n",
    "if (nrow(profile_mld) > 0){\n",
    "    plot_mld <- profile_mld\n",
    "    plot_mld$month <- factor(plot_mld$month, levels = plot_mld$month, labels = month.abb[plot_mld$month])\n",
    "    # make the month factors\n",
    "    plot_mld[[\"month\"]] <- factor(plot_mld[[\"month\"]], levels = month.abb[1:12])    \n",
    "    gg <- plot_mld %>%\n",
    "        ggplot()+\n",
    "        geom_point(aes(model, observation))+\n",
    "        geom_smooth(aes(model, observation))+\n",
    "        geom_abline()+\n",
    "        labs(x = \"Model MLD (m)\", y = \"Observation MLD()\")+\n",
    "        facet_wrap(~month, scales = \"free\")\n",
    "        gg\n",
    "}\n"
   ]
  },
  {
   "cell_type": "code",
   "execution_count": null,
   "metadata": {
    "tags": [
     "remove-input"
    ]
   },
   "outputs": [],
   "source": [
    "md(f\"**Figure {chapter}{i_figure}**: Model versus observation mixed layer depth (m) for each month.\")\n",
    "i_figure += 1"
   ]
  },
  {
   "cell_type": "code",
   "execution_count": null,
   "metadata": {
    "tags": [
     "remove-input"
    ]
   },
   "outputs": [],
   "source": [
    "%%capture --no-display\n",
    "%%R -i profile_mld -w 2000 -h 2000\n",
    "# increase plot size\n",
    "if (nrow(profile_mld) > 0){\n",
    "\n",
    "library(tidyverse, warn.conflicts = FALSE)\n",
    "world_map <- map_data(\"world\")\n",
    "profile_mld <- profile_mld %>%\n",
    "    mutate(bias = model - observation)\n",
    "# get lon, lat limits from profile_mld\n",
    "\n",
    "# cap bia to +/- 100\n",
    "profile_mld$bias <- ifelse(profile_mld$bias > 25, 25, profile_mld$bias)\n",
    "profile_mld$bias <- ifelse(profile_mld$bias < -25, -25, profile_mld$bias)\n",
    "\n",
    "xlim = c(min(profile_mld$lon), max(profile_mld$lon))\n",
    "ylim = c(min(profile_mld$lat), max(profile_mld$lat))\n",
    "\n",
    "# convert month number to month in profile_mld\n",
    "profile_mld <- profile_mld %>%\n",
    "    arrange(month)\n",
    "profile_mld$month <- factor(profile_mld$month, levels = profile_mld$month, labels = month.abb[profile_mld$month])\n",
    "\n",
    "gg <- profile_mld %>%\n",
    "    ggplot()+\n",
    "    geom_point(aes(lon, lat, colour = bias))+\n",
    "    facet_wrap(~month)+\n",
    "    theme_gray(base_size = 30)+\n",
    "    scale_color_gradient2(\n",
    "                       guide = guide_colorbar(title.position = \"bottom\", title.hjust = 0.5, title.theme = element_text(angle = 0, size = 26, family = \"Helvetica\"))\n",
    "  )+\n",
    "    coord_fixed(xlim = xlim, ylim = ylim, ratio = 1.5) +\n",
    "    theme(\n",
    "    legend.position = \"bottom\", legend.direction = \"horizontal\", legend.box = \"horizontal\", legend.key.width = unit(8.0, \"cm\"),\n",
    "    legend.key.height = unit(1.0, \"cm\"))+\n",
    "    # set the legend title to bias\n",
    "    labs(colour = \"Bias (Model MLD - Observation MLD) (m)\")\n",
    "\n",
    "  y_labels <-  as.numeric(na.omit(layer_scales(gg)$y$break_positions()))\n",
    "x_labels <- as.numeric(na.omit(layer_scales(gg)$x$break_positions()))\n",
    "x_breaks <- x_labels\n",
    "y_breaks <- y_labels\n",
    "\n",
    "# y labels are north-south coordinates. Make them more appropriate\n",
    "# i.e. 10 should be 10 °N, -10 should be 10 °S\n",
    "\n",
    "y_labels <- ifelse(y_labels >= 0, paste0(y_labels, \"°N\"), paste0(abs(y_labels), \"°S\"))\n",
    "x_labels <- ifelse(x_labels >= 0, paste0(x_labels, \"°E\"), paste0(abs(x_labels), \"°W\"))\n",
    "\n",
    "gg <- gg + scale_y_continuous(breaks = y_breaks, labels = y_labels)+\n",
    "    scale_x_continuous(breaks = x_breaks, labels = x_labels) +\n",
    "    geom_polygon(data = world_map, aes(long, lat, group = group), fill = \"grey60\")+\n",
    "    labs(x = \"\", y = \"\")\n",
    "\n",
    "gg\n",
    "}"
   ]
  },
  {
   "cell_type": "code",
   "execution_count": null,
   "metadata": {
    "tags": [
     "remove-input"
    ]
   },
   "outputs": [],
   "source": [
    "md(f\"**Figure {chapter}{i_figure}**: Spatial distribution of the bias (model - observation) in the mixed layer depth (m) in the model and observations.\")\n",
    "i_figure += 1"
   ]
  },
  {
   "cell_type": "markdown",
   "metadata": {},
   "source": [
    "## Data Sources"
   ]
  },
  {
   "cell_type": "code",
   "execution_count": null,
   "metadata": {
    "tags": [
     "remove-input"
    ]
   },
   "outputs": [],
   "source": [
    "md(\"ICES Data Portal, Dataset on Ocean HydroChemistry, Extracted March 3, 2023. ICES, Copenhagen\")"
   ]
  },
  {
   "cell_type": "code",
   "execution_count": null,
   "metadata": {
    "tags": [
     "remove-cell"
    ]
   },
   "outputs": [],
   "source": [
    "chunk_end"
   ]
  }
 ],
 "metadata": {
  "kernelspec": {
   "display_name": "validation",
   "language": "python",
   "name": "python3"
  },
  "language_info": {
   "codemirror_mode": {
    "name": "ipython",
    "version": 3
   },
   "file_extension": ".py",
   "mimetype": "text/x-python",
   "name": "python",
   "nbconvert_exporter": "python",
   "pygments_lexer": "ipython3",
   "version": "3.9.16"
  },
  "orig_nbformat": 4
 },
 "nbformat": 4,
 "nbformat_minor": 2
}
