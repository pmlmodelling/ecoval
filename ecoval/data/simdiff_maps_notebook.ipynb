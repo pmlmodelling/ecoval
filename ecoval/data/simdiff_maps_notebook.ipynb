{
 "cells": [
  {
   "cell_type": "markdown",
   "metadata": {},
   "source": [
    "# Mapped differences between simulations "
   ]
  },
  {
   "cell_type": "code",
   "execution_count": null,
   "metadata": {
    "tags": [
     "remove-cell"
    ]
   },
   "outputs": [],
   "source": [
    "chunk_start"
   ]
  },
  {
   "cell_type": "code",
   "execution_count": null,
   "metadata": {
    "tags": [
     "remove-cell"
    ]
   },
   "outputs": [
    {
     "name": "stdout",
     "output_type": "stream",
     "text": [
      "107 files were created by nctoolkit in prior or current sessions. Consider running deep_clean!\n",
      "nctoolkit is using Climate Data Operators version 2.4.4\n"
     ]
    }
   ],
   "source": [
    "# First identify what is available....\n",
    "\n",
    "import glob\n",
    "import os\n",
    "from IPython.display import Markdown as md\n",
    "# ability to open pickle\n",
    "import warnings\n",
    "warnings.filterwarnings('ignore')\n",
    "import pickle\n",
    "#pkg_resources\n",
    "import pkg_resources\n",
    "import numpy as np\n",
    "\n",
    "import pandas as pd\n",
    "import nctoolkit as nc\n",
    "from plotnine import *\n",
    "import os\n",
    "import molmass\n",
    "def get_molar_mass(element):\n",
    "    from molmass import Formula\n",
    "    f = Formula(element)\n",
    "    return f.mass\n",
    "\n",
    "paths = glob.glob(\"../../data/climatologies/**/**/*.nc\")\n",
    "measures = [os.path.basename(x).split(\"-\")[0] for x in paths]\n",
    "variables = [os.path.basename(x).split(\"-\")[2] for x in paths]\n",
    "i_table = 1\n",
    "i_figure = 1\n",
    "\n",
    "df_options = pd.DataFrame({\"measure\": measures, \"variable\": variables, \"path\": paths})\n",
    "\n",
    "ff = \"../../sim_dict.pkl\"\n",
    "sim_0_name = \"simulation 1\"\n",
    "sim_1_name = \"simulation 2\"\n",
    "if os.path.exists(ff):\n",
    "    sim_dict = pickle.load(open(ff, \"rb\"))\n",
    "    sim_0_name = sim_dict[\"sim0\"]\n",
    "    sim_1_name = sim_dict[\"sim1\"]\n",
    "\n",
    "measures = [x for x in [\"vertical_integration\", \"top\", \"vertical_mean\", \"bottom\"] if x in measures]\n",
    "\n"
   ]
  },
  {
   "cell_type": "code",
   "execution_count": null,
   "metadata": {
    "tags": [
     "remove-input"
    ]
   },
   "outputs": [],
   "source": [
    "\n",
    "for mm in set(measures):\n",
    "\n",
    "    if mm == \"vertical_integration\":\n",
    "        md(f\"## Spatially aggregated values across the entire water column\")\n",
    "    if mm == \"top\":\n",
    "        md(f\"## Sea surface\")\n",
    "    if mm == \"bottom\":\n",
    "        md(f\"## Near-bottom values\")\n",
    "    if mm == \"vertical_mean\":\n",
    "        md(f\"## Vertical mean values\")\n",
    "\n",
    "    mm_variables = list(set(df_options[df_options[\"measure\"] == mm][\"variable\"].values))\n",
    "    df_all = []\n",
    "    if mm == \"vertical_integration\":\n",
    "        md(\"Total integrated values were calculated for the northwest European Shelf by vertically integrating the values in each grid cell.\")  \n",
    "    if mm == \"bottom\":\n",
    "        md(\"Near-bottom values were calculated by taking the deepest grid cell with a non-missing value in each grid cell.\")\n",
    "    if mm == \"vertical_mean\":\n",
    "        md(\"Vertical mean values were calculated by calculating the vertical average per grid cell, accounting for cell thickness.\") \n",
    "    if mm == \"top\":\n",
    "        md(\"Sea surface values were calculated by taking the top value in each grid cell.\")\n",
    "    rr_plot = True\n",
    "    for vv in mm_variables:\n",
    "        try:\n",
    "            vv_paths = df_options[(df_options[\"measure\"] == mm) & (df_options[\"variable\"] == vv)][\"path\"].values\n",
    "            # path ending with sim_0.nc\n",
    "            ff1 = [x for x in vv_paths if x.endswith(\"sim_0.nc\")][0]\n",
    "            ff2 = [x for x in vv_paths if x.endswith(\"sim_1.nc\")][0]\n",
    "            #ds1 = nc.open_data(\"/data/proteus1/scratch/rwi/validations/differences/data/climatologies/chlorophyll/vertical_integration/vertical_integration_climatology_chlorophyll_sim_0.nc\")\n",
    "            ds1 = nc.open_data(ff1)\n",
    "            ds2 = nc.open_data(ff2)\n",
    "            try:\n",
    "                ds1.fix_amm7_grid()\n",
    "            except:\n",
    "                pass\n",
    "            try:\n",
    "                ds2.fix_amm7_grid()\n",
    "            except:\n",
    "                pass\n",
    "            ds1.tmean()\n",
    "            ds2.tmean()\n",
    "            ds1_ave = ds1.copy()\n",
    "            ds2_ave = ds2.copy()\n",
    "            # subset to sensible bounds\n",
    "            # ds1.subset(lon = [-19, 9], lat = [42, 63])\n",
    "            # ds2.subset(lon = [-19, 9], lat = [42, 63])\n",
    "            # percentage difference\n",
    "            # check if temperat in name\n",
    "            if \"temperat\" not in vv:\n",
    "                ds1 / ds2\n",
    "                ds1 - 1\n",
    "                ds1 * 100\n",
    "            else:\n",
    "                ds1 - ds2\n",
    "            #ds1 - ds2\n",
    "            the_var= ds1.variables[0]\n",
    "            values = ds1.to_dataframe()[the_var].values\n",
    "            values = values[~np.isnan(values)]\n",
    "            max_value = float(values.max())\n",
    "            min_value = float(values.min())\n",
    "\n",
    "            ds1.rename({the_var: \"diff\"}) \n",
    "            # calculate the 95th percentile\n",
    "            p95 = np.percentile(values, 97.5)\n",
    "            p95 = min(p95, 100)\n",
    "            p5 = np.percentile(values, 2.5)\n",
    "            p5 = max(p5, -100)\n",
    "            p95 = float(p95)\n",
    "            p5 = float(p5)\n",
    "            if max_value < 100:\n",
    "                p95 = max_value\n",
    "            if min_value > -100:\n",
    "                p5 = min_value\n",
    "            # ds1.assign(diff = lambda x: min(x.diff, p95))\n",
    "            # make this more detailed\n",
    "            ds1.assign(diff = lambda x: (x.diff > p95) * p95 + (x.diff < p5) * p5 + (x.diff >= p5) * (x.diff <= p95) * x.diff)\n",
    "            #ds1.assign(diff = lambda x: max(x.diff, p5))\n",
    "            # calculate the 5th percentile\n",
    "            if mm == \"top\":\n",
    "                md(f\"### Surface {vv}\")\n",
    "            if mm == \"bottom\":\n",
    "                md(f\"### Near-bottom {vv}\")\n",
    "            if mm == \"vertical_mean\":\n",
    "                md(f\"### Vertical mean {vv}\")\n",
    "            if mm == \"vertical_integration\":\n",
    "                md(f\"### Vertically integrated {vv}\")\n",
    "            ds1.plot()\n",
    "            if \"temperat\" in vv:\n",
    "                md(f\"**Figure {i_figure}**: Difference between {sim_0_name} and {sim_1_name} for {vv} ({mm}). A positive value indicates that {sim_0_name} is higher than {sim_1_name}.\")\n",
    "            else:\n",
    "                md(f\"**Figure {i_figure}**: Percentage difference between {sim_0_name} and {sim_1_name} for {vv} ({mm}). A positive value indicates that {sim_0_name} is higher than {sim_1_name}.\")\n",
    "            i_figure = i_figure + 1\n",
    "\n",
    "\n",
    "\n",
    "        except:\n",
    "            pass\n",
    "\n"
   ]
  }
 ],
 "metadata": {
  "kernelspec": {
   "display_name": "ecoval",
   "language": "python",
   "name": "python3"
  },
  "language_info": {
   "codemirror_mode": {
    "name": "ipython",
    "version": 3
   },
   "file_extension": ".py",
   "mimetype": "text/x-python",
   "name": "python",
   "nbconvert_exporter": "python",
   "pygments_lexer": "ipython3",
   "version": "3.11.10"
  }
 },
 "nbformat": 4,
 "nbformat_minor": 2
}
